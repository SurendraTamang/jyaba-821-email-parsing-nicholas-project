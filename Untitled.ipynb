{
 "cells": [
  {
   "cell_type": "code",
   "execution_count": 1,
   "metadata": {},
   "outputs": [],
   "source": [
    "from utils import parse\n",
    "\n",
    "\n",
    "def main():\n",
    "    # url\n",
    "    url = \"https://links.newsletter.fortune.com/u/click?_t=5c2d888702774d17aa3d0350287b6d73&_m=b82eca30bb3d4a18bd067b8b16563d7d&_e=zSjE-3sBaOj2qO3uri7ety6gfRgaw8yhX4EP0WxCGEIf9cHoknoS_A_gLzmNI3Flw7j3Knr45Ppypbfs-wUgumC2qE08-C23cISCJztr8qKXGEqmFwprgwpAmx5NhLiwWLLp_2dGi50nxnwj6LhwXZwwKcuG3IXQgZFo7g0qTi6JtM1OCljnXH2DZWsbsEWkYvaPb82qSdayCdSpDj2yfh038l0QMNnD7CnZBYfWL5vA58bI5vpGqWCZH2jFxefsxIMz3YK-683oCAHETXSukPF2y49MPO4CXQdMjpds6i6kOOdNtklosPFJfJ25BeGeZeTHovr6Q5gY1z3vvKjWt0O-XzlSPdt-VtafCXs8bm0lmCyKjjUfAPw9YEGY0V3L\"\n",
    "    results = parse(url)\n",
    "    return results"
   ]
  },
  {
   "cell_type": "code",
   "execution_count": 136,
   "metadata": {},
   "outputs": [],
   "source": [
    "results = {'VENTURE DEALS': [{'Company': 'Veev', 'Company Url': 'https://www.veev.com', 'Text': '– Veev, a San Mateo, Calif.-based technology-enabled homebuilding company, raised $400 million in Series D funding led by BOND and was joined by investors including LenX, Zeev Ventures, Fifth Wall Climate Tech, and JLL Spark Global Ventures.\\xa0'}, {'Company': 'Aurora Solar', 'Company Url': 'https://www.aurorasolar.com', 'Text': '– Aurora Solar, a San Francisco-based solar design software company, raised $200 million in Series D funding. Energize Ventures and Coatue led the round and were joined by investors including Fifth Wall, ICONIQ Capital, Lux Capital, and Emerson Collective.\\xa0'}, {'Company': 'Kin Insurance', 'Company Url': 'https://www.kin.com/', 'Text': '– Kin Insurance, a Chicago-based direct-to-consumer home insurance company, raised $82 million in Series D funding led by QED Growth and was joined by investors including Commerce Ventures, Flourish Ventures, Hudson Structured Capital Management, Alpha Edison, Allegis NL Capital, Avanta Ventures, August Capital, Geodesic Capital, and PROOF.VC.'}, {'Company': 'GridPoint', 'Company Url': 'https://www.gridpoint.com', 'Text': '– GridPoint, a Reston, Va.-based energy management and optimization company for buildings, raised $75 million in funding led by the Sustainable Investing Group and was joined by investors including Shell Ventures.\\xa0'}, {'Company': 'Nayya Health', 'Company Url': 'https://nayya.com', 'Text': '– \\u200bNayya Health, a New York-based benefits experience and healthcare management platform, raised $55 million in Series C financing led by existing investor ICONIQ Growth and was joined by investors including Transformation Capital, Felicis Ventures, and SemperVirens.\\xa0'}, {'Company': 'Metadata.io', 'Company Url': 'https://metadata.io', 'Text': '– Metadata.io, a San Francisco-based operating system for B2B marketers, raised $40 million in\\xa0 Series B funding led by Next47 and Resolute Ventures.\\xa0'}, {'Company': 'Subspace Labs', 'Company Url': 'https://subspace.network', 'Text': '– Subspace Labs, a Palo Alto, Calif.-based infrastructure platform to help build decentralized platforms, raised $32.9 million in funding led by Pantera Capital and was joined by investors including Coinbase Ventures, Crypto.com, Alameda Research, ConsenSys Mesh, KR1, Hypersphere Ventures, Stratos Technologies, AVG Blockchain Fund, GSR Ventures, and Eniac Ventures.'}, {'Company': 'Counterpart', 'Company Url': 'https://yourcounterpart.com', 'Text': '– Counterpart, a Walnut, Calif.-based insurtech management liability platform, raised $30 million in Series B funding led by Vy Capital, Valor Equity Partners, and Felicis Ventures.'}, {'Company': 'nSure.ai', 'Company Url': 'https://www.nsureai.com', 'Text': '– nSure.ai, a Tel Aviv, Israel-based automated chargeback guarantee platform, raised $18 million in Series A funding led by MoreTech Ventures and was joined by investors including DisruptiveAI, Gryffin Ventures, and Moneta Seeds.\\xa0'}, {'Company': 'Disco', 'Company Url': 'https://www.disco.co', 'Text': '– Disco, a Toronto-based educational software platform for knowledge creators and organizations, raised $15 million in Series A funding led by GSV Ventures.'}, {'Company': 'Sourcemap', 'Company Url': 'https://sourcemap.com', 'Text': '– Sourcemap, a New York-based provider of end-to-end supply chain due diligence software, raised $10 million in Series A funding led by Energize Ventures and was joined by investors including E14 Fund.'}, {'Company': 'XRHealth', 'Company Url': 'https://www.xr.health', 'Text': '– XRHealth, a Brookline, Mass.-based virtual health clinic in the metaverse, raised $10 million in funding from investors including HTC, Bridges Israel, AARP, crowdfunding on StartEngine.com, and existing investors.'}, {'Company': 'Orkes', 'Company Url': 'https://orkes.io', 'Text': '– Orkes, a Cupertino, Calif.-based microservices and workflow platform, raised $9.3 million in funding co-led by Battery Ventures and Vertex Ventures US.\\xa0'}, {'Company': '\\u200b\\u200b', 'Company Url': 'https://calyptia.com', 'Text': '– \\u200b\\u200bCalyptia, a San Francisco-based stream processing platform for data management, raised $5 million in seed funding led by Sierra Ventures and Carbide Ventures.\\xa0'}, {'Company': 'Testsigma', 'Company Url': 'https://testsigma.com', 'Text': '– Testsigma, a San Francisco-based automated testing platform for web and app development, raised $4.6 million in seed funding led by Accel and STRIVE and was joined by investors including BoldCap, co-founder and CTO of Freshworks Shanmugam Krishnasamy, co-founder and vp of engineering at Freshworks Kiran Darisi, co-founder and principal engineer at Freshworks Parsuram Vijayasankar, CEO of Ally.io Vetri Vellore, CEO at B12 Nitesh Banta, co-founder at Pintek Ioann Fainsilber, and others.'}, {'Company': 'Common Paper', 'Company Url': 'https://commonpaper.com', 'Text': '– Common Paper, a Beaverton, Ore.-based commercial contracting software company, raised $4.5 million in seed funding, co-led by Boldstart Ventures and Uncork Capital and was joined by investors including CEO of Carta Henry Ward, CEO of UiPath Daniel Dines, and co-founders of TechGC Greg Raiten and Kiran Lingam.'}, {'Company': 'CryptoTaxCalculator', 'Company Url': 'https://cryptotaxcalculator.io/en/', 'Text': '– CryptoTaxCalculator, a Sydney, Australia-based platform for simplifying crypto tax calculations, raised $2.9 million in seed funding led by AirTree Ventures and was joined by investors including Coinbase Ventures and 20VC.'}, {'Company': 'Visionary.ai', 'Company Url': 'https://www.visionary.ai', 'Text': '– Visionary.ai, a Tel Aviv, Israel-based startup that uses A.I. to make cameras operate better, raised an additional $2.5 million in seed funding led by Ibex Investors and was joined by investors including Spring Ventures and Capital Point.'}, {'Company': 'point.me', 'Company Url': 'https://www.point.me', 'Text': '– point.me, a New York-based flight award travel tool, raised $2 million in seed funding from investors including WndrCo Holdings, DreamWorks Animation CEO Jeffrey Katzenberg, Dropbox founder Sujay Jaswa, former DreamWorks Animation president Ann Daily, Skinnygirl founder and CEO Bethenny Frankel, Paul Bernon, David M. Baggett, and Carl de Marcken.'}, {'Company': 'NextGem', 'Company Url': 'https://www.nextgem.com', 'Text': '– \\u200b\\u200bNextGem, a Grand Rapids, Minn.-based social app built for sports trading card enthusiasts, raised $1.8 million in pre-seed funding led by Great North Ventures and was joined by investors including SK Ventures, Groove Capital, Gopher Angels, ESPN analyst Matthew Berry, former Minnesota Twin baseball player Corey Koskie, and Ryan McKillen.\\xa0'}], 'PRIVATE EQUITY': [{'Company': 'Forest Incentives', 'Company Url': 'https://www.forestincentives.com/about', 'Text': '– Firmament acquired a minority stake in Forest Incentives, a Warminster, Pa.-based provider of third-party logistics and procurement services. Financial terms were not disclosed.'}, {'Company': 'Blue.cloud', 'Company Url': 'https://www.blue.cloud', 'Text': '– Hudson Hill Capital acquired a majority stake in Blue.cloud, a Tampa, Fla.-based cloud technology services company. Financial terms were not disclosed.'}, {'Company': 'Canady’s', 'Company Url': 'https://canadys.com', 'Text': '– Thompson Street Capital Partners’s portfolio company, Len The Plumber acquired Canady’s, a Savannah, Ga.-based full-service provider of residential HVAC and plumbing. Financial terms were not disclosed.'}], 'OTHER': [{'Company': 'StreamSets', 'Company Url': 'https://streamsets.com', 'Text': '– Software AG acquired StreamSets, a San Francisco-based data integration platform, for €524M million ($585.5 million).'}, {'Company': 'The Floow', 'Company Url': 'https://www.thefloow.com', 'Text': '– Otonomo Technologies agreed to acquire The Floow, a Sheffield, U.K.-based telematics data gathering system, in a cash and stock deal valued at approximately $69 million'}, {'Company': 'Sleeknote', 'Company Url': 'https://sleeknote.com', 'Text': '– Drip acquired Sleeknote, an Aarhus, Denmark-based onsite engagement tool for commerce brands. Financial terms were not disclosed.\\xa0'}, {'Company': 'Syft', 'Company Url': 'https://www.syftco.com', 'Text': '– Global Healthcare Exchange acquired Syft, a Tampa, Fla.-based supply chain management platform. Financial terms were not disclosed.\\xa0'}, {'Company': 'Resia AB', 'Company Url': 'https://www.resia.se', 'Text': '– TripActions, acquired Resia AB, a Falkenberg, Sweden-based travel management company. Financial terms were not disclosed.'}], 'FUNDS + FUNDS OF FUNDS': [{'Company': 'Electric Capital', 'Company Url': 'https://www.electriccapital.com/', 'Text': '– Electric Capital, a Palo Alto, Calif.-based venture capital firm, raised $1 billion for its third early stage fund and a new digital token fund.'}], 'PEOPLE': [{'Company': 'Lincoln International', 'Company Url': 'https://www.lincolninternational.com', 'Text': '– Lincoln International, a Chicago-based global investment bank, hired Antoine Dupont-Madinier, Max Cornu-Thenard and Jay Bliley as managing directors. Formerly, Dupont-Madinier and Cornu-Thenard were with Panmure Gordon, and Bliley was with Stephens, Inc.'}, {'Company': 'Slow Ventures', 'Company Url': 'https://slow-prod.herokuapp.com', 'Text': '– Slow Ventures, a San Francisco-based venture capital firm, hired Yoni Rechtman as principal. Formerly, he was with Tusk Ventures. '}]}"
   ]
  },
  {
   "cell_type": "code",
   "execution_count": 15,
   "metadata": {},
   "outputs": [],
   "source": [
    "d = \"name\tlink\tupdated_date\temail_date\tseries\tlocation\tamount\tdescription\tinvestor0\tinvestor1\tinvestor2\tinvestor3\tinvestor4\tinvestor5\tinvestor6\tinvestor7\tinvestor8\tinvestor9\t\"\n",
    "result_keys = d.split()"
   ]
  },
  {
   "cell_type": "code",
   "execution_count": 146,
   "metadata": {},
   "outputs": [
    {
     "name": "stdout",
     "output_type": "stream",
     "text": [
      "VENTURE DEALS\n",
      "PRIVATE EQUITY\n",
      "OTHER\n",
      "FUNDS + FUNDS OF FUNDS\n",
      "PEOPLE\n"
     ]
    }
   ],
   "source": [
    "for k in list(results.keys()):\n",
    "    print(k)"
   ]
  },
  {
   "cell_type": "code",
   "execution_count": 147,
   "metadata": {},
   "outputs": [
    {
     "data": {
      "text/plain": [
       "2"
      ]
     },
     "execution_count": 147,
     "metadata": {},
     "output_type": "execute_result"
    }
   ],
   "source": [
    "len(results[list(results.keys())[4]])"
   ]
  },
  {
   "cell_type": "code",
   "execution_count": 149,
   "metadata": {},
   "outputs": [
    {
     "ename": "IndexError",
     "evalue": "list index out of range",
     "output_type": "error",
     "traceback": [
      "\u001b[0;31m---------------------------------------------------------------------------\u001b[0m",
      "\u001b[0;31mIndexError\u001b[0m                                Traceback (most recent call last)",
      "\u001b[0;32m<ipython-input-149-8dbccdc9299a>\u001b[0m in \u001b[0;36m<module>\u001b[0;34m\u001b[0m\n\u001b[0;32m----> 1\u001b[0;31m \u001b[0mdata\u001b[0m \u001b[0;34m=\u001b[0m \u001b[0mresults\u001b[0m\u001b[0;34m[\u001b[0m\u001b[0mlist\u001b[0m\u001b[0;34m(\u001b[0m\u001b[0mresults\u001b[0m\u001b[0;34m.\u001b[0m\u001b[0mkeys\u001b[0m\u001b[0;34m(\u001b[0m\u001b[0;34m)\u001b[0m\u001b[0;34m)\u001b[0m\u001b[0;34m[\u001b[0m\u001b[0;36m4\u001b[0m\u001b[0;34m]\u001b[0m\u001b[0;34m]\u001b[0m\u001b[0;34m[\u001b[0m\u001b[0;36m2\u001b[0m\u001b[0;34m]\u001b[0m\u001b[0;34m\u001b[0m\u001b[0;34m\u001b[0m\u001b[0m\n\u001b[0m\u001b[1;32m      2\u001b[0m \u001b[0;34m\u001b[0m\u001b[0m\n\u001b[1;32m      3\u001b[0m \u001b[0mparser_text\u001b[0m\u001b[0;34m(\u001b[0m\u001b[0mdata\u001b[0m\u001b[0;34m)\u001b[0m\u001b[0;34m\u001b[0m\u001b[0;34m\u001b[0m\u001b[0m\n",
      "\u001b[0;31mIndexError\u001b[0m: list index out of range"
     ]
    }
   ],
   "source": [
    "data = results[list(results.keys())[4]][2]\n",
    "\n",
    "parser_text(data)"
   ]
  },
  {
   "cell_type": "code",
   "execution_count": 130,
   "metadata": {},
   "outputs": [],
   "source": [
    "def parser_text(data):\n",
    "    res = {}\n",
    "    regexes = {\n",
    "        'Series': r\"(?=Series.*?(\\w+))\",\n",
    "        'Location': r\"(?<=, a\\s).*(?=-based)\",\n",
    "        'Location_':r\"(?<=, a\\s).*(?=-founded)\",\n",
    "        'Amount': r\"\\$\\d+\\s\\w+\",\n",
    "        'Description':r\"(?<=-based\\s).*?(?=,)\",\n",
    "        'Description_':r\"(?<=-founded\\s).*?(?=,)\"\n",
    "    }  \n",
    "\n",
    "    res['name'] = data['Company']\n",
    "    res['link'] = data['Company Url']\n",
    "    res['updated_date'] = datetime.now()\n",
    "    res['email_date'] = \"\" #should be given\n",
    "\n",
    "    #series\n",
    "    series = re.findall(regexes['Series'],data['Text'])\n",
    "    if series:\n",
    "        res['series'] = series[0]\n",
    "    else:\n",
    "        res['series'] = \"\"\n",
    "\n",
    "    #location\n",
    "    location = re.findall(regexes['Location'],data['Text']) + re.findall(regexes['Location_'],data['Text'])\n",
    "    if location:\n",
    "        res['location'] = location[0]\n",
    "    else:\n",
    "        res['location'] = \"\"\n",
    "\n",
    "    #amount\n",
    "    amount = re.findall(regexes['Amount'],data['Text'])\n",
    "    if amount:\n",
    "        res['Amount'] = amount[0]\n",
    "    else:\n",
    "        res['Amount'] = \"\"\n",
    "\n",
    "    #description\n",
    "    description = re.findall(regexes['Description'],data['Text'])+re.findall(regexes['Description_'],data['Text'])\n",
    "    if description:\n",
    "        res['Description'] = description[0]\n",
    "    else:\n",
    "        res['Description'] = \"\"\n",
    "\n",
    "    #investors\n",
    "    investors = re.findall('(?i)investors including ([^.]+)', data['Text']) + re.findall('(?i)investors include ([^.]+)', data['Text'])\n",
    "    if investors:\n",
    "        investors = investors[0].split(\",\")\n",
    "        #last splitted item might have \" and \" so removing \n",
    "        for i in range(len(investors)):\n",
    "            if i == len(investors)-1:\n",
    "                if \"and\" in investors[i]:\n",
    "                    res[f'investor{i}'] = investors[i].split(\" and \")[1]\n",
    "                else:\n",
    "                    res[f'investor{i}'] = investors[i]\n",
    "            else:\n",
    "                res[f'investor{i}'] = investors[i]\n",
    "\n",
    "    res['full text'] = data['Text']\n",
    "    return res"
   ]
  },
  {
   "cell_type": "code",
   "execution_count": 36,
   "metadata": {},
   "outputs": [
    {
     "data": {
      "text/plain": [
       "'D'"
      ]
     },
     "execution_count": 36,
     "metadata": {},
     "output_type": "execute_result"
    }
   ],
   "source": [
    "#series\n",
    "import re\n",
    "r= r\"(?=Series.*?(\\w+))\"\n",
    "re.findall(r,data['Text'])[0]"
   ]
  },
  {
   "cell_type": "code",
   "execution_count": 125,
   "metadata": {},
   "outputs": [
    {
     "data": {
      "text/plain": [
       "['Fifth Wall', ' ICONIQ Capital', ' Lux Capital', ' and Emerson Collective']"
      ]
     },
     "execution_count": 125,
     "metadata": {},
     "output_type": "execute_result"
    }
   ],
   "source": [
    "investors"
   ]
  },
  {
   "cell_type": "code",
   "execution_count": 128,
   "metadata": {},
   "outputs": [
    {
     "data": {
      "text/plain": [
       "{'name': 'Aurora Solar',\n",
       " 'link': 'https://www.aurorasolar.com',\n",
       " 'updated_date': datetime.datetime(2022, 3, 24, 11, 7, 11, 100067),\n",
       " 'email_date': '',\n",
       " 'series': 'D',\n",
       " 'location': 'San Francisco',\n",
       " 'Amount': '$200 million',\n",
       " 'Description': 'solar design software company',\n",
       " 'investor0': 'Fifth Wall',\n",
       " 'investor1': ' ICONIQ Capital',\n",
       " 'investor2': ' Lux Capital',\n",
       " 'investor3': 'Emerson Collective',\n",
       " 'full text': '– Aurora Solar, a San Francisco-based solar design software company, raised $200 million in Series D funding. Energize Ventures and Coatue led the round and were joined by investors including Fifth Wall, ICONIQ Capital, Lux Capital, and Emerson Collective.\\xa0'}"
      ]
     },
     "execution_count": 128,
     "metadata": {},
     "output_type": "execute_result"
    }
   ],
   "source": [
    "res"
   ]
  },
  {
   "cell_type": "code",
   "execution_count": 95,
   "metadata": {},
   "outputs": [
    {
     "data": {
      "text/plain": [
       "'solar design software company, raised $200 million in Series D funding. Energize Ventures and Coatue led the round and were joined by investors including Fifth Wall, ICONIQ Capital, Lux Capital,'"
      ]
     },
     "execution_count": 95,
     "metadata": {},
     "output_type": "execute_result"
    }
   ],
   "source": [
    "#location\n",
    "r = r\"(?<=-based\\s).*(?<=\\,)\"\n",
    "re.findall(r,data['Text'])[0]"
   ]
  },
  {
   "cell_type": "code",
   "execution_count": 89,
   "metadata": {},
   "outputs": [
    {
     "data": {
      "text/plain": [
       "'– Aurora Solar, a San Francisco-based solar design software company, raised $200 million in Series D funding. Energize Ventures and Coatue led the round and were joined by investors including Fifth Wall, ICONIQ Capital, Lux Capital, and Emerson Collective.\\xa0'"
      ]
     },
     "execution_count": 89,
     "metadata": {},
     "output_type": "execute_result"
    }
   ],
   "source": [
    "data[\"Text\"]"
   ]
  },
  {
   "cell_type": "code",
   "execution_count": 72,
   "metadata": {},
   "outputs": [
    {
     "data": {
      "text/plain": [
       "'$69 million'"
      ]
     },
     "execution_count": 72,
     "metadata": {},
     "output_type": "execute_result"
    }
   ],
   "source": [
    "#amount\n",
    "r = r\"\\$\\d+\\s\\w+\"\n",
    "re.findall(r,data['Text'])[0]"
   ]
  },
  {
   "cell_type": "code",
   "execution_count": 85,
   "metadata": {},
   "outputs": [],
   "source": [
    "#have to ask description\n",
    "#investors"
   ]
  },
  {
   "cell_type": "code",
   "execution_count": 96,
   "metadata": {},
   "outputs": [
    {
     "data": {
      "text/plain": [
       "'solar design software company'"
      ]
     },
     "execution_count": 96,
     "metadata": {},
     "output_type": "execute_result"
    }
   ],
   "source": [
    "#description\n",
    "r = r\"(?<=-based\\s).*?(?=,)\"\n",
    "re.findall(r,data['Text'])[0]"
   ]
  },
  {
   "cell_type": "code",
   "execution_count": 106,
   "metadata": {},
   "outputs": [
    {
     "data": {
      "text/plain": [
       "['Fifth Wall, ICONIQ Capital, Lux Capital, and Emerson Collective', 'test']"
      ]
     },
     "execution_count": 106,
     "metadata": {},
     "output_type": "execute_result"
    }
   ],
   "source": [
    "#investors\n",
    "r = r\"(?i)investors including ([^.]+)\"\n",
    "re.findall(r,data['Text'])+['test']"
   ]
  },
  {
   "cell_type": "code",
   "execution_count": null,
   "metadata": {},
   "outputs": [],
   "source": []
  }
 ],
 "metadata": {
  "kernelspec": {
   "display_name": "Python 3",
   "language": "python",
   "name": "python3"
  },
  "language_info": {
   "codemirror_mode": {
    "name": "ipython",
    "version": 3
   },
   "file_extension": ".py",
   "mimetype": "text/x-python",
   "name": "python",
   "nbconvert_exporter": "python",
   "pygments_lexer": "ipython3",
   "version": "3.8.10"
  }
 },
 "nbformat": 4,
 "nbformat_minor": 4
}
